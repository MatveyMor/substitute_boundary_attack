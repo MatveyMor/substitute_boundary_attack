{
 "cells": [
  {
   "cell_type": "code",
   "execution_count": 1,
   "metadata": {},
   "outputs": [
    {
     "name": "stdout",
     "output_type": "stream",
     "text": [
      "Sun Mar 21 12:36:02 2021       \n",
      "+-----------------------------------------------------------------------------+\n",
      "| NVIDIA-SMI 440.64       Driver Version: 440.64       CUDA Version: 10.2     |\n",
      "|-------------------------------+----------------------+----------------------+\n",
      "| GPU  Name        Persistence-M| Bus-Id        Disp.A | Volatile Uncorr. ECC |\n",
      "| Fan  Temp  Perf  Pwr:Usage/Cap|         Memory-Usage | GPU-Util  Compute M. |\n",
      "|===============================+======================+======================|\n",
      "|   0  TITAN RTX           Off  | 00000000:03:00.0 Off |                  N/A |\n",
      "| 41%   61C    P2    69W / 280W |  14532MiB / 24219MiB |      0%      Default |\n",
      "+-------------------------------+----------------------+----------------------+\n",
      "|   1  TITAN RTX           Off  | 00000000:04:00.0 Off |                  N/A |\n",
      "| 41%   49C    P2    60W / 280W |   5663MiB / 24220MiB |     16%      Default |\n",
      "+-------------------------------+----------------------+----------------------+\n",
      "|   2  TITAN RTX           Off  | 00000000:82:00.0 Off |                  N/A |\n",
      "| 40%   54C    P2    65W / 280W |  15972MiB / 24220MiB |      0%      Default |\n",
      "+-------------------------------+----------------------+----------------------+\n",
      "|   3  TITAN RTX           Off  | 00000000:83:00.0 Off |                  N/A |\n",
      "| 52%   73C    P2   138W / 280W |  20766MiB / 24220MiB |     41%      Default |\n",
      "+-------------------------------+----------------------+----------------------+\n",
      "                                                                               \n",
      "+-----------------------------------------------------------------------------+\n",
      "| Processes:                                                       GPU Memory |\n",
      "|  GPU       PID   Type   Process name                             Usage      |\n",
      "|=============================================================================|\n",
      "+-----------------------------------------------------------------------------+\n"
     ]
    }
   ],
   "source": [
    "!nvidia-smi"
   ]
  },
  {
   "cell_type": "code",
   "execution_count": 2,
   "metadata": {},
   "outputs": [],
   "source": [
    "import numpy as np\n",
    "import torch\n",
    "import torchvision\n",
    "\n",
    "import matplotlib.pyplot as plt\n",
    "from scipy.special import softmax\n",
    "\n",
    "import foolbox as fb\n",
    "from torchvision import transforms\n",
    "from boundary_attack import BoundaryAttack"
   ]
  },
  {
   "cell_type": "code",
   "execution_count": 3,
   "metadata": {},
   "outputs": [],
   "source": [
    "device = torch.device('cuda:1' if torch.cuda.is_available() else 'cpu')"
   ]
  },
  {
   "cell_type": "code",
   "execution_count": 4,
   "metadata": {},
   "outputs": [],
   "source": [
    "model = torch.load('CIFAR10_ResNet50.pth', map_location=device)"
   ]
  },
  {
   "cell_type": "code",
   "execution_count": 5,
   "metadata": {},
   "outputs": [
    {
     "name": "stdout",
     "output_type": "stream",
     "text": [
      "Files already downloaded and verified\n"
     ]
    }
   ],
   "source": [
    "test_tf = transforms.Compose([\n",
    "    transforms.ToTensor()\n",
    "])\n",
    "\n",
    "test = torchvision.datasets.CIFAR10('./', download=True, train=False, transform=test_tf)\n",
    "\n",
    "testloader = torch.utils.data.DataLoader(dataset=test, batch_size=256, shuffle=False)"
   ]
  },
  {
   "cell_type": "code",
   "execution_count": 6,
   "metadata": {},
   "outputs": [],
   "source": [
    "examples = enumerate(test)\n",
    "batch_idx, (example_data, example_targets) = next(examples)"
   ]
  },
  {
   "cell_type": "code",
   "execution_count": 7,
   "metadata": {},
   "outputs": [],
   "source": [
    "init = 1\n",
    "start = 4\n",
    "\n",
    "input_or_adv = test[init][0]\n",
    "example_targets = test[init][1]\n",
    "starting_points = test[start][0]"
   ]
  },
  {
   "cell_type": "code",
   "execution_count": 8,
   "metadata": {},
   "outputs": [],
   "source": [
    "input_or_adv = input_or_adv.reshape(1, 3, 32, 32)\n",
    "starting_points = starting_points.reshape(1, 3, 32, 32)"
   ]
  },
  {
   "cell_type": "code",
   "execution_count": 9,
   "metadata": {},
   "outputs": [],
   "source": [
    "input_or_adv = input_or_adv.to(device)\n",
    "starting_points = starting_points.to(device)\n",
    "label = torch.tensor([example_targets]).to(device)"
   ]
  },
  {
   "cell_type": "code",
   "execution_count": 10,
   "metadata": {},
   "outputs": [],
   "source": [
    "fmodel = fb.PyTorchModel(model, bounds=(0, 1), device=device)\n",
    "attack = BoundaryAttack(steps=10000, tensorboard='./logs')"
   ]
  },
  {
   "cell_type": "code",
   "execution_count": 11,
   "metadata": {},
   "outputs": [
    {
     "name": "stderr",
     "output_type": "stream",
     "text": [
      "100%|██████████| 10000/10000 [04:22<00:00, 38.10it/s]"
     ]
    },
    {
     "name": "stdout",
     "output_type": "stream",
     "text": [
      "CPU times: user 4min 34s, sys: 19.2 s, total: 4min 53s\n",
      "Wall time: 4min 22s\n"
     ]
    },
    {
     "name": "stderr",
     "output_type": "stream",
     "text": [
      "\n"
     ]
    }
   ],
   "source": [
    "%%time\n",
    "\n",
    "adversarial = attack(model=fmodel, \n",
    "                     inputs=input_or_adv, \n",
    "                     starting_points=starting_points, \n",
    "                     criterion=fb.criteria.Misclassification(label), \n",
    "                     epsilons=1e-3)"
   ]
  },
  {
   "cell_type": "code",
   "execution_count": 12,
   "metadata": {},
   "outputs": [],
   "source": [
    "adv = adversarial[0].cpu().numpy()\n",
    "input_or_adv = input_or_adv.to('cpu')\n",
    "starting_points = starting_points.to('cpu')"
   ]
  },
  {
   "cell_type": "code",
   "execution_count": 13,
   "metadata": {},
   "outputs": [
    {
     "data": {
      "image/png": "[encoded data removed]",
      "text/plain": [
       "<Figure size 1080x1800 with 3 Axes>"
      ]
     },
     "metadata": {
      "needs_background": "light"
     },
     "output_type": "display_data"
    }
   ],
   "source": [
    "fig, ax = plt.subplots(figsize=[15, 25])\n",
    "\n",
    "plt.subplot(131)\n",
    "plt.imshow(np.array(input_or_adv[0]).transpose((1,2,0)))\n",
    "plt.title('Init image')\n",
    "\n",
    "plt.subplot(132)\n",
    "plt.imshow(np.array(starting_points[0]).transpose((1,2,0)))\n",
    "plt.title('Start point')\n",
    "\n",
    "plt.subplot(133)\n",
    "plt.imshow(np.array(adv[0]).transpose((1,2,0)))\n",
    "plt.title('Adversarial')\n",
    "\n",
    "plt.savefig('example.pdf')\n",
    "\n",
    "plt.show()"
   ]
  },
  {
   "cell_type": "code",
   "execution_count": 14,
   "metadata": {},
   "outputs": [
    {
     "name": "stdout",
     "output_type": "stream",
     "text": [
      "label before: 8   prob before: 0.6173749\n",
      "label after: 1    prob after: 0.4980647    prob init: 0.49804428\n"
     ]
    }
   ],
   "source": [
    "before = model.forward(input_or_adv.to(device)).cpu().detach().numpy()\n",
    "label_before = np.argmax(before)\n",
    "before_prob = softmax(before)[0][label_before]\n",
    "print('label before:', label_before, '  prob before:', before_prob)\n",
    "\n",
    "after = model.forward(adversarial[0]).cpu().detach().numpy()\n",
    "label_after = np.argmax(after)\n",
    "prob_after = softmax(after)[0][label_after]\n",
    "prob_after_init = softmax(after)[0][label_before]\n",
    "print('label after:', label_after, '   prob after:', prob_after, '   prob init:', prob_after_init)"
   ]
  },
  {
   "cell_type": "code",
   "execution_count": 15,
   "metadata": {},
   "outputs": [],
   "source": [
    "distance = np.linalg.norm(input_or_adv.cpu().detach().numpy() - adversarial[0].cpu().detach().numpy())"
   ]
  },
  {
   "cell_type": "code",
   "execution_count": 16,
   "metadata": {},
   "outputs": [
    {
     "data": {
      "text/plain": [
       "6.112223976136495e-06"
      ]
     },
     "execution_count": 16,
     "metadata": {},
     "output_type": "execute_result"
    }
   ],
   "source": [
    "distance / (3*32*32)"
   ]
  },
  {
   "cell_type": "code",
   "execution_count": null,
   "metadata": {},
   "outputs": [],
   "source": []
  }
 ],
 "metadata": {
  "kernelspec": {
   "display_name": "Python 3",
   "language": "python",
   "name": "python3"
  },
  "language_info": {
   "codemirror_mode": {
    "name": "ipython",
    "version": 3
   },
   "file_extension": ".py",
   "mimetype": "text/x-python",
   "name": "python",
   "nbconvert_exporter": "python",
   "pygments_lexer": "ipython3",
   "version": "3.7.9"
  }
 },
 "nbformat": 4,
 "nbformat_minor": 4
}
